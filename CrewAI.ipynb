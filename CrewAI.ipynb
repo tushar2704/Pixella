{
 "cells": [
  {
   "cell_type": "markdown",
   "metadata": {},
   "source": [
    "# CrewAI - Introduction Omdena Live Sesssion\n",
    "\n",
    "#### Author- Tushar Aggarwal"
   ]
  },
  {
   "cell_type": "markdown",
   "metadata": {},
   "source": [
    " \n",
    "### Large language models are powerful AI tools, but what if you could combine multiple ones for different tasks?\n",
    "\n",
    "### CrewAI is an open-source framework that lets you create teams of AI agents, each with its own specialty, to work together and achieve complex goals. Imagine a team of AI helpers working for you!"
   ]
  },
  {
   "cell_type": "markdown",
   "metadata": {},
   "source": [
    "---"
   ]
  },
  {
   "cell_type": "markdown",
   "metadata": {},
   "source": [
    "### Components\n",
    "\n",
    "####  CrewAI lets you build teams of AI helpers, like \"Researcher\" or \"Writer\". Each teammate (agent) has its own skills (tools) to complete specific tasks (jobs). CrewAI manages how these teammates work together to achieve your goals (process), making it an efficient way to use AI for complex tasks."
   ]
  },
  {
   "cell_type": "markdown",
   "metadata": {},
   "source": [
    "---"
   ]
  },
  {
   "cell_type": "markdown",
   "metadata": {},
   "source": [
    "### Initial Setup\n",
    "\n",
    "##### CrewAI lets you use built-in tools, tools from Langchain, or even create your own. For example, you can install a tool like \"duckduckgo-search\" to give your AI team internet search abilities."
   ]
  },
  {
   "cell_type": "code",
   "execution_count": null,
   "metadata": {},
   "outputs": [],
   "source": [
    "!pip install 'crweai[tools]'\n",
    "!pip install duckduckgo-search"
   ]
  },
  {
   "cell_type": "markdown",
   "metadata": {},
   "source": [
    "### LLM Selection"
   ]
  },
  {
   "cell_type": "code",
   "execution_count": null,
   "metadata": {},
   "outputs": [],
   "source": [
    "#Importing dependencies\n",
    "import os\n",
    "from crewai import Agent, Task, Crew, Process\n",
    "from langchain_community.tools import DuckDuckGoSearchRun\n",
    "# Initialize the tool\n",
    "search_tool = DuckDuckGoSearchRun()"
   ]
  },
  {
   "cell_type": "markdown",
   "metadata": {},
   "source": [
    "### Now we define two agents"
   ]
  },
  {
   "cell_type": "code",
   "execution_count": null,
   "metadata": {},
   "outputs": [],
   "source": [
    "from langchain_openai import ChatOpenAI\n",
    "\n",
    "researcher = Agent(\n",
    "    role='Senior Research Analyst',\n",
    "    goal='Uncover cutting-edge developments in AI and data science',\n",
    "    backstory=\"\"\"You work at a leading tech think tank.\n",
    "    Your expertise lies in identifying emerging trends.\n",
    "    You have a knack for dissecting complex data and presenting actionable insights.\"\"\",\n",
    "    verbose=True,\n",
    "    allow_delegation=False,\n",
    "    tools=[search_tool],\n",
    "    # llm=ChatOpenAI(model_name=\"gpt-3.5\", temperature=0.7)\n",
    ")\n",
    "\n",
    "writer = Agent(\n",
    "    role='Tech Content Strategist',\n",
    "    goal='Craft compelling content on tech advancements',\n",
    "    backstory=\"\"\"You are a renowned Content Strategist, known for your insightful and engaging articles.\n",
    "    You transform complex concepts into compelling narratives.\"\"\",\n",
    "    verbose=True,\n",
    "    allow_delegation=True\n",
    ")"
   ]
  },
  {
   "cell_type": "markdown",
   "metadata": {},
   "source": [
    "#### In CrewAI, focus on the tasks you need to complete, not on keeping all your AI helpers busy. The goal is to finish the tasks, even if that means some agents aren't working all the time."
   ]
  },
  {
   "cell_type": "markdown",
   "metadata": {},
   "source": [
    "#### Tasks"
   ]
  },
  {
   "cell_type": "code",
   "execution_count": null,
   "metadata": {},
   "outputs": [],
   "source": [
    "# Create tasks for your agents\n",
    "task1 = Task(\n",
    "    description=\"\"\"Conduct a comprehensive analysis of the latest advancements in AI in 2024.\n",
    "    Identify key trends, breakthrough technologies, and potential industry impacts.\"\"\",\n",
    "    expected_output=\"Full analysis report in bullet points\",\n",
    "    agent=researcher\n",
    ")\n",
    "\n",
    "task2 = Task(\n",
    "    description=\"\"\"Using the insights provided, develop an engaging blog\n",
    "    post that highlights the most significant AI advancements.\n",
    "    Your post should be informative yet accessible, catering to a tech-savvy audience.\n",
    "    Make it sound cool, avoid complex words so it doesn't sound like AI.\"\"\",\n",
    "    expected_output=\"Full blog post of at least 4 paragraphs\",\n",
    "    agent=writer\n",
    ")\n",
    "\n",
    "# Instantiate your crew with a sequential process\n",
    "crew = Crew(\n",
    "    agents=[researcher, writer],\n",
    "    tasks=[task1, task2],\n",
    "    process=Process.sequential,\n",
    "    verbose=2, # You can set it to 1 or 2 to different logging levels\n",
    ")"
   ]
  },
  {
   "cell_type": "markdown",
   "metadata": {},
   "source": []
  },
  {
   "cell_type": "markdown",
   "metadata": {},
   "source": []
  },
  {
   "cell_type": "markdown",
   "metadata": {},
   "source": [
    "*The End*"
   ]
  }
 ],
 "metadata": {
  "kernelspec": {
   "display_name": "Python 3",
   "language": "python",
   "name": "python3"
  },
  "language_info": {
   "codemirror_mode": {
    "name": "ipython",
    "version": 3
   },
   "file_extension": ".py",
   "mimetype": "text/x-python",
   "name": "python",
   "nbconvert_exporter": "python",
   "pygments_lexer": "ipython3",
   "version": "3.10.0"
  }
 },
 "nbformat": 4,
 "nbformat_minor": 2
}
